{
 "cells": [
  {
   "cell_type": "code",
   "execution_count": null,
   "metadata": {},
   "outputs": [],
   "source": [
    "# Load libraries\n",
    "import pandas as pd\n",
    "from sqlalchemy import create_engine"
   ]
  },
  {
   "cell_type": "code",
   "execution_count": null,
   "metadata": {},
   "outputs": [],
   "source": [
    "# Open the CSV and read with Pandas\n",
    "visitors_file = \"../Resources/All National Parks Visitation 1904-2016.csv\"\n",
    "visitors_df = pd.read_csv(visitors_file)\n",
    "visitors_df.head()"
   ]
  },
  {
   "cell_type": "code",
   "execution_count": null,
   "metadata": {},
   "outputs": [],
   "source": [
    "# Grab only National Parks from the DataFrame\n",
    "visitors_df = visitors_df.loc[visitors_df[\"Unit Type\"] == \"National Park\"]\n",
    "\n",
    "# filter out rows that do not contain a numeric year\n",
    "visitors_df = visitors_df.loc[visitors_df[\"YearRaw\"] != \"Total\"]\n",
    "\n",
    "# Create filtered dataframe with specific columns\n",
    "visitors_cols = [\"Region\", \"State\", \"Unit Name\", \"Visitors\", \"YearRaw\"]\n",
    "visitors_transformed= visitors_df[visitors_cols].copy()\n",
    "\n",
    "\n",
    "\n",
    "# Rename the column headers for clarification\n",
    "visitors_transformed = visitors_transformed.rename(columns={\"Region\":\"region\",\n",
    "                                                            \"State\":\"state\",\n",
    "                                                            \"Unit Name\": \"park_name\",\n",
    "                                                            \"Visitors\":\"visitors\",\n",
    "                                                            \"YearRaw\": \"year\"})\n",
    "# Reset the index\n",
    "visitors_transformed.reset_index(drop=True, inplace=True)\n",
    "\n",
    "# Create the ID column based off of the index\n",
    "visitors_transformed['id'] = visitors_transformed.index + 1\n",
    "\n",
    "# Set the index to the ID\n",
    "visitors_transformed.set_index('id',drop=True, inplace=True)\n",
    "\n",
    "visitors_transformed.head()"
   ]
  },
  {
   "cell_type": "code",
   "execution_count": null,
   "metadata": {},
   "outputs": [],
   "source": [
    "# Create connection string to database\n",
    "connection_string = \"postgres:postgres@localhost:5432/national_parks_db\"\n",
    "engine = create_engine(f'postgresql://{connection_string}')"
   ]
  },
  {
   "cell_type": "code",
   "execution_count": null,
   "metadata": {},
   "outputs": [],
   "source": [
    "# Load the database\n",
    "visitors_transformed.to_sql(name='parks_visitation', con=engine, if_exists='append', index=True)"
   ]
  },
  {
   "cell_type": "code",
   "execution_count": null,
   "metadata": {},
   "outputs": [],
   "source": []
  }
 ],
 "metadata": {
  "kernelspec": {
   "display_name": "Python 3",
   "language": "python",
   "name": "python3"
  },
  "language_info": {
   "codemirror_mode": {
    "name": "ipython",
    "version": 3
   },
   "file_extension": ".py",
   "mimetype": "text/x-python",
   "name": "python",
   "nbconvert_exporter": "python",
   "pygments_lexer": "ipython3",
   "version": "3.8.5"
  }
 },
 "nbformat": 4,
 "nbformat_minor": 4
}
