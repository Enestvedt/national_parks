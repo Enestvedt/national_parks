{
 "metadata": {
  "language_info": {
   "codemirror_mode": {
    "name": "ipython",
    "version": 3
   },
   "file_extension": ".py",
   "mimetype": "text/x-python",
   "name": "python",
   "nbconvert_exporter": "python",
   "pygments_lexer": "ipython3",
   "version": "3.8.8"
  },
  "orig_nbformat": 2,
  "kernelspec": {
   "name": "python388jvsc74a57bd0dca0ade3e726a953b501b15e8e990130d2b7799f14cfd9f4271676035ebe5511",
   "display_name": "Python 3.8.8 64-bit ('base': conda)"
  },
  "metadata": {
   "interpreter": {
    "hash": "dca0ade3e726a953b501b15e8e990130d2b7799f14cfd9f4271676035ebe5511"
   }
  }
 },
 "nbformat": 4,
 "nbformat_minor": 2,
 "cells": [
  {
   "cell_type": "code",
   "execution_count": 93,
   "metadata": {},
   "outputs": [],
   "source": [
    "#dependencies\n",
    "import pandas as pd\n",
    "from sqlalchemy import create_engine, inspect\n",
    "from sqlalchemy.orm import Session"
   ]
  },
  {
   "cell_type": "code",
   "execution_count": 80,
   "metadata": {},
   "outputs": [
    {
     "output_type": "execute_result",
     "data": {
      "text/plain": [
       "                     Name  age  gender        Date  Month  Year     Type  \\\n",
       "0            Erin Johnson   27  female  2017-06-19      6  2017     Wild   \n",
       "1          Patrick Cooper   16    male  2017-06-18      6  2017     Wild   \n",
       "2    Daniel Ward O'Connor   27    male  2015-05-10      5  2015     Wild   \n",
       "3             Darsh Patel   22    male  2014-09-21      9  2014     Wild   \n",
       "4            Lorna Weafer   36  female  2014-05-07      5  2014     Wild   \n",
       "..                    ...  ...     ...         ...    ...   ...      ...   \n",
       "161            Baby Laird    1     NaN  1908-10-05     10  1908  Captive   \n",
       "162            John Dicht   18    male  1906-11-24     11  1906     Wild   \n",
       "163      Mary Porterfield    3  female  1901-05-19      5  1901     Wild   \n",
       "164     Wilie Porterfield    5    male  1901-05-19      5  1901     Wild   \n",
       "165     Henry Porterfield    7    male  1901-05-19      5  1901     Wild   \n",
       "\n",
       "                             Location  \\\n",
       "0                   Pogo mine, Alaska   \n",
       "1                      Indian, Alaska   \n",
       "2    near Mackenzie, British Columbia   \n",
       "3       near West Milford, New Jersey   \n",
       "4         near Fort McMurray, Alberta   \n",
       "..                                ...   \n",
       "161                   Tucson, Arizona   \n",
       "162          Elk County, Pennsylvania   \n",
       "163                Job, West Virginia   \n",
       "164                Job, West Virginia   \n",
       "165                Job, West Virginia   \n",
       "\n",
       "                                           Description Type of bear  Hunter  \\\n",
       "0    Johnson, a contract employee for Pogo Mine, wa...   Black bear       0   \n",
       "1    Cooper was chased and mauled by a bear while r...   Black bear       0   \n",
       "2    Ward was killed by a bear while he slept near ...   Black bear       0   \n",
       "3    Patel was about to begin hiking with four frie...   Black bear       0   \n",
       "4    Weafer, a Suncor worker was attacked at the re...   Black bear       0   \n",
       "..                                                 ...          ...     ...   \n",
       "161  After a bear escaped from a cage at Elysian Gr...   Black bear       0   \n",
       "162  Thinking the bear was dead, Dicht began skinni...   Black bear       0   \n",
       "163  The children were gathering flowers near their...   Black bear       0   \n",
       "164  The children were gathering flowers near their...   Black bear       0   \n",
       "165  The children were gathering flowers near their...   Black bear       0   \n",
       "\n",
       "     Grizzly  Hikers  Only one killed  \n",
       "0          0       0                1  \n",
       "1          0       0                1  \n",
       "2          0       0                1  \n",
       "3          0       1                1  \n",
       "4          0       0                1  \n",
       "..       ...     ...              ...  \n",
       "161        0       0                1  \n",
       "162        0       0                1  \n",
       "163        0       0                0  \n",
       "164        0       0                0  \n",
       "165        0       0                0  \n",
       "\n",
       "[166 rows x 14 columns]"
      ],
      "text/html": "<div>\n<style scoped>\n    .dataframe tbody tr th:only-of-type {\n        vertical-align: middle;\n    }\n\n    .dataframe tbody tr th {\n        vertical-align: top;\n    }\n\n    .dataframe thead th {\n        text-align: right;\n    }\n</style>\n<table border=\"1\" class=\"dataframe\">\n  <thead>\n    <tr style=\"text-align: right;\">\n      <th></th>\n      <th>Name</th>\n      <th>age</th>\n      <th>gender</th>\n      <th>Date</th>\n      <th>Month</th>\n      <th>Year</th>\n      <th>Type</th>\n      <th>Location</th>\n      <th>Description</th>\n      <th>Type of bear</th>\n      <th>Hunter</th>\n      <th>Grizzly</th>\n      <th>Hikers</th>\n      <th>Only one killed</th>\n    </tr>\n  </thead>\n  <tbody>\n    <tr>\n      <th>0</th>\n      <td>Erin Johnson</td>\n      <td>27</td>\n      <td>female</td>\n      <td>2017-06-19</td>\n      <td>6</td>\n      <td>2017</td>\n      <td>Wild</td>\n      <td>Pogo mine, Alaska</td>\n      <td>Johnson, a contract employee for Pogo Mine, wa...</td>\n      <td>Black bear</td>\n      <td>0</td>\n      <td>0</td>\n      <td>0</td>\n      <td>1</td>\n    </tr>\n    <tr>\n      <th>1</th>\n      <td>Patrick Cooper</td>\n      <td>16</td>\n      <td>male</td>\n      <td>2017-06-18</td>\n      <td>6</td>\n      <td>2017</td>\n      <td>Wild</td>\n      <td>Indian, Alaska</td>\n      <td>Cooper was chased and mauled by a bear while r...</td>\n      <td>Black bear</td>\n      <td>0</td>\n      <td>0</td>\n      <td>0</td>\n      <td>1</td>\n    </tr>\n    <tr>\n      <th>2</th>\n      <td>Daniel Ward O'Connor</td>\n      <td>27</td>\n      <td>male</td>\n      <td>2015-05-10</td>\n      <td>5</td>\n      <td>2015</td>\n      <td>Wild</td>\n      <td>near Mackenzie, British Columbia</td>\n      <td>Ward was killed by a bear while he slept near ...</td>\n      <td>Black bear</td>\n      <td>0</td>\n      <td>0</td>\n      <td>0</td>\n      <td>1</td>\n    </tr>\n    <tr>\n      <th>3</th>\n      <td>Darsh Patel</td>\n      <td>22</td>\n      <td>male</td>\n      <td>2014-09-21</td>\n      <td>9</td>\n      <td>2014</td>\n      <td>Wild</td>\n      <td>near West Milford, New Jersey</td>\n      <td>Patel was about to begin hiking with four frie...</td>\n      <td>Black bear</td>\n      <td>0</td>\n      <td>0</td>\n      <td>1</td>\n      <td>1</td>\n    </tr>\n    <tr>\n      <th>4</th>\n      <td>Lorna Weafer</td>\n      <td>36</td>\n      <td>female</td>\n      <td>2014-05-07</td>\n      <td>5</td>\n      <td>2014</td>\n      <td>Wild</td>\n      <td>near Fort McMurray, Alberta</td>\n      <td>Weafer, a Suncor worker was attacked at the re...</td>\n      <td>Black bear</td>\n      <td>0</td>\n      <td>0</td>\n      <td>0</td>\n      <td>1</td>\n    </tr>\n    <tr>\n      <th>...</th>\n      <td>...</td>\n      <td>...</td>\n      <td>...</td>\n      <td>...</td>\n      <td>...</td>\n      <td>...</td>\n      <td>...</td>\n      <td>...</td>\n      <td>...</td>\n      <td>...</td>\n      <td>...</td>\n      <td>...</td>\n      <td>...</td>\n      <td>...</td>\n    </tr>\n    <tr>\n      <th>161</th>\n      <td>Baby Laird</td>\n      <td>1</td>\n      <td>NaN</td>\n      <td>1908-10-05</td>\n      <td>10</td>\n      <td>1908</td>\n      <td>Captive</td>\n      <td>Tucson, Arizona</td>\n      <td>After a bear escaped from a cage at Elysian Gr...</td>\n      <td>Black bear</td>\n      <td>0</td>\n      <td>0</td>\n      <td>0</td>\n      <td>1</td>\n    </tr>\n    <tr>\n      <th>162</th>\n      <td>John Dicht</td>\n      <td>18</td>\n      <td>male</td>\n      <td>1906-11-24</td>\n      <td>11</td>\n      <td>1906</td>\n      <td>Wild</td>\n      <td>Elk County, Pennsylvania</td>\n      <td>Thinking the bear was dead, Dicht began skinni...</td>\n      <td>Black bear</td>\n      <td>0</td>\n      <td>0</td>\n      <td>0</td>\n      <td>1</td>\n    </tr>\n    <tr>\n      <th>163</th>\n      <td>Mary Porterfield</td>\n      <td>3</td>\n      <td>female</td>\n      <td>1901-05-19</td>\n      <td>5</td>\n      <td>1901</td>\n      <td>Wild</td>\n      <td>Job, West Virginia</td>\n      <td>The children were gathering flowers near their...</td>\n      <td>Black bear</td>\n      <td>0</td>\n      <td>0</td>\n      <td>0</td>\n      <td>0</td>\n    </tr>\n    <tr>\n      <th>164</th>\n      <td>Wilie Porterfield</td>\n      <td>5</td>\n      <td>male</td>\n      <td>1901-05-19</td>\n      <td>5</td>\n      <td>1901</td>\n      <td>Wild</td>\n      <td>Job, West Virginia</td>\n      <td>The children were gathering flowers near their...</td>\n      <td>Black bear</td>\n      <td>0</td>\n      <td>0</td>\n      <td>0</td>\n      <td>0</td>\n    </tr>\n    <tr>\n      <th>165</th>\n      <td>Henry Porterfield</td>\n      <td>7</td>\n      <td>male</td>\n      <td>1901-05-19</td>\n      <td>5</td>\n      <td>1901</td>\n      <td>Wild</td>\n      <td>Job, West Virginia</td>\n      <td>The children were gathering flowers near their...</td>\n      <td>Black bear</td>\n      <td>0</td>\n      <td>0</td>\n      <td>0</td>\n      <td>0</td>\n    </tr>\n  </tbody>\n</table>\n<p>166 rows × 14 columns</p>\n</div>"
     },
     "metadata": {},
     "execution_count": 80
    }
   ],
   "source": [
    "#read the csv file into a pandas dataframe\n",
    "bear_attacks_df = pd.read_csv(\"../Resources/north_america_bear_killings.csv\")\n",
    "bear_attacks_df"
   ]
  },
  {
   "cell_type": "code",
   "execution_count": 81,
   "metadata": {},
   "outputs": [
    {
     "output_type": "execute_result",
     "data": {
      "text/plain": [
       "Index(['Name', ' age', 'gender', 'Date', 'Month', 'Year', 'Type', 'Location',\n",
       "       'Description', 'Type of bear', 'Hunter', 'Grizzly', 'Hikers',\n",
       "       'Only one killed'],\n",
       "      dtype='object')"
      ]
     },
     "metadata": {},
     "execution_count": 81
    }
   ],
   "source": [
    "#inspect the columns\n",
    "bear_attacks_df.columns"
   ]
  },
  {
   "cell_type": "code",
   "execution_count": 82,
   "metadata": {},
   "outputs": [],
   "source": [
    "#age column has a leading space - remove that and make all others lower case\n",
    "bear_attacks_df = bear_attacks_df.rename(columns={'Name': 'name', ' age': 'age', 'Date': 'date', 'Type': 'type', 'Location': 'location', 'Description': 'description', 'Type of bear': 'bear_type'})\n"
   ]
  },
  {
   "cell_type": "code",
   "execution_count": 83,
   "metadata": {},
   "outputs": [],
   "source": [
    "#we only care about attacks in National Parks - filter for those - these will include Canada's National Parks as well as USA National Parks\n",
    "in_parks = bear_attacks_df['location'].str.contains('National Park', case=True, regex=False)\n",
    "\n",
    "#select the relevant columns\n",
    "in_parks_df = bear_attacks_df[in_parks]\n",
    "in_parks_df = in_parks_df[['name', 'age', 'date', 'type', 'location', 'description', 'bear_type']]\n"
   ]
  },
  {
   "cell_type": "code",
   "execution_count": 84,
   "metadata": {},
   "outputs": [
    {
     "output_type": "execute_result",
     "data": {
      "text/plain": [
       "(32, 7)"
      ]
     },
     "metadata": {},
     "execution_count": 84
    }
   ],
   "source": [
    "#check for any duplicate records\n",
    "in_parks_df.shape"
   ]
  },
  {
   "cell_type": "code",
   "execution_count": 85,
   "metadata": {},
   "outputs": [
    {
     "output_type": "execute_result",
     "data": {
      "text/plain": [
       "(32, 7)"
      ]
     },
     "metadata": {},
     "execution_count": 85
    }
   ],
   "source": [
    "#there are no duplicate records\n",
    "in_parks_df.drop_duplicates().shape\n"
   ]
  },
  {
   "cell_type": "code",
   "execution_count": 86,
   "metadata": {},
   "outputs": [],
   "source": [
    "#reset the index - this will be the sql primary key\n",
    "in_parks_df = in_parks_df.reset_index(drop=True)\n",
    "#give index column name 'id'\n",
    "in_parks_df.index.name = 'id'"
   ]
  },
  {
   "cell_type": "code",
   "execution_count": 87,
   "metadata": {},
   "outputs": [
    {
     "output_type": "execute_result",
     "data": {
      "text/plain": [
       "                      name age        date  type  \\\n",
       "id                                                 \n",
       "0             Lance Crosby  63  2015-08-07  Wild   \n",
       "1            Richard White  49  2012-08-24  Wild   \n",
       "2             John Wallace  59  2011-08-24  Wild   \n",
       "3          Brian Matayoshi  57  2011-07-06  Wild   \n",
       "4       Glenda Ann Bradley  50  2000-05-21  Wild   \n",
       "5        Timothy Treadwell  46  2003-10-05  Wild   \n",
       "6           Amie Huguenard  37  2003-10-05  Wild   \n",
       "7               Craig Dahl  26  1998-05-17  Wild   \n",
       "8              Robert Bell  33  1996-08-23  Wild   \n",
       "9       Christine Courtney  32  1996-07-05  Wild   \n",
       "10           John Petranyi  40  1992-10-03  Wild   \n",
       "11  Trevor Percy-Lancaster  40  1992-09-15  Wild   \n",
       "12             Gary Goeden  29  1987-07-28  Wild   \n",
       "13           Charles Gibbs  40  1987-04-25  Wild   \n",
       "14        William Tesinsky  38  1986-10-05  Wild   \n",
       "15    Brigitta Fredenhagen  25  1984-07-30  Wild   \n",
       "16         Laurence Gordon  33  1980-09-30  Wild   \n",
       "17           Jane Ammerman  19  1980-07-24  Wild   \n",
       "18              Kim Eberly  19  1980-07-24  Wild   \n",
       "19         John Richardson  31  1971-07-25  Wild   \n",
       "20            Alison Muser   5  1977-07-01  Wild   \n",
       "21        Mary Pat Mahoney  22  1976-09-23  Wild   \n",
       "22             Alan Precup  25  1986-09-11  Wild   \n",
       "23         Barbara Chapman  24  1976-07-24  Wild   \n",
       "24        Wilf Etherington  51  1973-09-25  Wild   \n",
       "25            Harry Walker  25  1972-06-25  Wild   \n",
       "26          Julie Helgeson  19  1967-08-13  Wild   \n",
       "27           Michele Koons  19  1967-08-13  Wild   \n",
       "28          Barbara Coates   7  1958-08-12  Wild   \n",
       "29           Martha Hansen  45  1942-08-23  Wild   \n",
       "30           Percy Goodair  52  1929-09-12  Wild   \n",
       "31             Frank Welch  61  1916-09-08  Wild   \n",
       "\n",
       "                                             location  \\\n",
       "id                                                      \n",
       "0                  Yellowstone National Park, Wyoming   \n",
       "1                        Denali National Park, Alaska   \n",
       "2                  Yellowstone National Park, Wyoming   \n",
       "3                  Yellowstone National Park, Wyoming   \n",
       "4      Great Smoky Mountains National Park, Tennessee   \n",
       "5                        Katmai National Park, Alaska   \n",
       "6                        Katmai National Park, Alaska   \n",
       "7                      Glacier National Park, Montana   \n",
       "8           Gates of the Arctic National Park, Alaska   \n",
       "9                         Kluane National Park, Yukon   \n",
       "10                     Glacier National Park, Montana   \n",
       "11                      Jasper National Park, Alberta   \n",
       "12                     Glacier National Park, Montana   \n",
       "13                     Glacier National Park, Montana   \n",
       "14                 Yellowstone National Park, Wyoming   \n",
       "15                          Yellowstone National Park   \n",
       "16                     Glacier National Park, Montana   \n",
       "17                     Glacier National Park, Montana   \n",
       "18                     Glacier National Park, Montana   \n",
       "19        near Rocky Mountain National Park, Colorado   \n",
       "20              Waterton Lakes National Park, Alberta   \n",
       "21                     Glacier National Park, Montana   \n",
       "22     Glacier Bay National Park and Preserve, Alaska   \n",
       "23  Glacier National Park of Canada, British Columbia   \n",
       "24                       Banff National Park, Alberta   \n",
       "25                 Yellowstone National Park, Wyoming   \n",
       "26                     Glacier National Park, Montana   \n",
       "27                     Glacier National Park, Montana   \n",
       "28                      Jasper National Park, Alberta   \n",
       "29                 Yellowstone National Park, Wyoming   \n",
       "30                      Jasper National Park, Alberta   \n",
       "31                 Yellowstone National Park, Wyoming   \n",
       "\n",
       "                                          description   bear_type  \n",
       "id                                                                 \n",
       "0   Crosby, an employee at a medical clinic in the...  Brown bear  \n",
       "1   White was backpacking alone along the Toklat R...  Brown bear  \n",
       "2   Wallace's remains were found by hikers on the ...  Brown bear  \n",
       "3   Matayoshi and his wife were hiking the Wapiti ...  Brown bear  \n",
       "4   Bradley was attacked and partially consumed by...  Black bear  \n",
       "5   Treadwell and Huguenard's corpses were found b...  Brown bear  \n",
       "6   Treadwell and Huguenard's corpses were found b...  Brown bear  \n",
       "7   Dahl's partially consumed remains were found t...  Brown bear  \n",
       "8   Bell was killed while hiking with a friend nea...  Brown bear  \n",
       "9   Courtney was killed while hiking on the Slim's...  Brown bear  \n",
       "10  Petranyi was killed by a mother with two cubs ...  Brown bear  \n",
       "11  Percy-Lancaster and his wife were setting up c...  Brown bear  \n",
       "12  Goeden's partially consumed remains were found...  Brown bear  \n",
       "13  Gibbs was last seen alive following and photog...  Brown bear  \n",
       "14  Tesinkey, a photographer, was mauled after app...  Brown bear  \n",
       "15  Fredenhagen was dragged from her tent during t...  Brown bear  \n",
       "16  Gordon was killed at the Elizabeth Lake campsi...  Brown bear  \n",
       "17  Their partially consumed bodies were found nea...  Brown bear  \n",
       "18  Their partially consumed bodies were found nea...  Brown bear  \n",
       "19  Richardson was attacked while camping on priva...  Black bear  \n",
       "20  Muser was mauled to death by a black colored G...  Brown bear  \n",
       "21  Mahoney was dragged from a tent and killed at ...  Brown bear  \n",
       "22  Precup did not return after backpacking in Gla...  Brown bear  \n",
       "23  While hiking with a friend in British Columbia...  Brown bear  \n",
       "24  Etherington, a biologist with the Canadian Wil...  Brown bear  \n",
       "25  Walker was attacked by a bear that was feeding...  Brown bear  \n",
       "26  While camping near the Granite Park Chalet, He...  Brown bear  \n",
       "27  Koons was camping with a group at the Trout La...  Brown bear  \n",
       "28  While Coates was picking berries outside of he...  Black bear  \n",
       "29  Hansen left her cabin to go to the restroom. A...  Brown bear  \n",
       "30  Goodair, a Parks Canada warden, was killed by ...  Brown bear  \n",
       "31  Welch was killed at a camp near Sylvan Pass wh...  Brown bear  "
      ],
      "text/html": "<div>\n<style scoped>\n    .dataframe tbody tr th:only-of-type {\n        vertical-align: middle;\n    }\n\n    .dataframe tbody tr th {\n        vertical-align: top;\n    }\n\n    .dataframe thead th {\n        text-align: right;\n    }\n</style>\n<table border=\"1\" class=\"dataframe\">\n  <thead>\n    <tr style=\"text-align: right;\">\n      <th></th>\n      <th>name</th>\n      <th>age</th>\n      <th>date</th>\n      <th>type</th>\n      <th>location</th>\n      <th>description</th>\n      <th>bear_type</th>\n    </tr>\n    <tr>\n      <th>id</th>\n      <th></th>\n      <th></th>\n      <th></th>\n      <th></th>\n      <th></th>\n      <th></th>\n      <th></th>\n    </tr>\n  </thead>\n  <tbody>\n    <tr>\n      <th>0</th>\n      <td>Lance Crosby</td>\n      <td>63</td>\n      <td>2015-08-07</td>\n      <td>Wild</td>\n      <td>Yellowstone National Park, Wyoming</td>\n      <td>Crosby, an employee at a medical clinic in the...</td>\n      <td>Brown bear</td>\n    </tr>\n    <tr>\n      <th>1</th>\n      <td>Richard White</td>\n      <td>49</td>\n      <td>2012-08-24</td>\n      <td>Wild</td>\n      <td>Denali National Park, Alaska</td>\n      <td>White was backpacking alone along the Toklat R...</td>\n      <td>Brown bear</td>\n    </tr>\n    <tr>\n      <th>2</th>\n      <td>John Wallace</td>\n      <td>59</td>\n      <td>2011-08-24</td>\n      <td>Wild</td>\n      <td>Yellowstone National Park, Wyoming</td>\n      <td>Wallace's remains were found by hikers on the ...</td>\n      <td>Brown bear</td>\n    </tr>\n    <tr>\n      <th>3</th>\n      <td>Brian Matayoshi</td>\n      <td>57</td>\n      <td>2011-07-06</td>\n      <td>Wild</td>\n      <td>Yellowstone National Park, Wyoming</td>\n      <td>Matayoshi and his wife were hiking the Wapiti ...</td>\n      <td>Brown bear</td>\n    </tr>\n    <tr>\n      <th>4</th>\n      <td>Glenda Ann Bradley</td>\n      <td>50</td>\n      <td>2000-05-21</td>\n      <td>Wild</td>\n      <td>Great Smoky Mountains National Park, Tennessee</td>\n      <td>Bradley was attacked and partially consumed by...</td>\n      <td>Black bear</td>\n    </tr>\n    <tr>\n      <th>5</th>\n      <td>Timothy Treadwell</td>\n      <td>46</td>\n      <td>2003-10-05</td>\n      <td>Wild</td>\n      <td>Katmai National Park, Alaska</td>\n      <td>Treadwell and Huguenard's corpses were found b...</td>\n      <td>Brown bear</td>\n    </tr>\n    <tr>\n      <th>6</th>\n      <td>Amie Huguenard</td>\n      <td>37</td>\n      <td>2003-10-05</td>\n      <td>Wild</td>\n      <td>Katmai National Park, Alaska</td>\n      <td>Treadwell and Huguenard's corpses were found b...</td>\n      <td>Brown bear</td>\n    </tr>\n    <tr>\n      <th>7</th>\n      <td>Craig Dahl</td>\n      <td>26</td>\n      <td>1998-05-17</td>\n      <td>Wild</td>\n      <td>Glacier National Park, Montana</td>\n      <td>Dahl's partially consumed remains were found t...</td>\n      <td>Brown bear</td>\n    </tr>\n    <tr>\n      <th>8</th>\n      <td>Robert Bell</td>\n      <td>33</td>\n      <td>1996-08-23</td>\n      <td>Wild</td>\n      <td>Gates of the Arctic National Park, Alaska</td>\n      <td>Bell was killed while hiking with a friend nea...</td>\n      <td>Brown bear</td>\n    </tr>\n    <tr>\n      <th>9</th>\n      <td>Christine Courtney</td>\n      <td>32</td>\n      <td>1996-07-05</td>\n      <td>Wild</td>\n      <td>Kluane National Park, Yukon</td>\n      <td>Courtney was killed while hiking on the Slim's...</td>\n      <td>Brown bear</td>\n    </tr>\n    <tr>\n      <th>10</th>\n      <td>John Petranyi</td>\n      <td>40</td>\n      <td>1992-10-03</td>\n      <td>Wild</td>\n      <td>Glacier National Park, Montana</td>\n      <td>Petranyi was killed by a mother with two cubs ...</td>\n      <td>Brown bear</td>\n    </tr>\n    <tr>\n      <th>11</th>\n      <td>Trevor Percy-Lancaster</td>\n      <td>40</td>\n      <td>1992-09-15</td>\n      <td>Wild</td>\n      <td>Jasper National Park, Alberta</td>\n      <td>Percy-Lancaster and his wife were setting up c...</td>\n      <td>Brown bear</td>\n    </tr>\n    <tr>\n      <th>12</th>\n      <td>Gary Goeden</td>\n      <td>29</td>\n      <td>1987-07-28</td>\n      <td>Wild</td>\n      <td>Glacier National Park, Montana</td>\n      <td>Goeden's partially consumed remains were found...</td>\n      <td>Brown bear</td>\n    </tr>\n    <tr>\n      <th>13</th>\n      <td>Charles Gibbs</td>\n      <td>40</td>\n      <td>1987-04-25</td>\n      <td>Wild</td>\n      <td>Glacier National Park, Montana</td>\n      <td>Gibbs was last seen alive following and photog...</td>\n      <td>Brown bear</td>\n    </tr>\n    <tr>\n      <th>14</th>\n      <td>William Tesinsky</td>\n      <td>38</td>\n      <td>1986-10-05</td>\n      <td>Wild</td>\n      <td>Yellowstone National Park, Wyoming</td>\n      <td>Tesinkey, a photographer, was mauled after app...</td>\n      <td>Brown bear</td>\n    </tr>\n    <tr>\n      <th>15</th>\n      <td>Brigitta Fredenhagen</td>\n      <td>25</td>\n      <td>1984-07-30</td>\n      <td>Wild</td>\n      <td>Yellowstone National Park</td>\n      <td>Fredenhagen was dragged from her tent during t...</td>\n      <td>Brown bear</td>\n    </tr>\n    <tr>\n      <th>16</th>\n      <td>Laurence Gordon</td>\n      <td>33</td>\n      <td>1980-09-30</td>\n      <td>Wild</td>\n      <td>Glacier National Park, Montana</td>\n      <td>Gordon was killed at the Elizabeth Lake campsi...</td>\n      <td>Brown bear</td>\n    </tr>\n    <tr>\n      <th>17</th>\n      <td>Jane Ammerman</td>\n      <td>19</td>\n      <td>1980-07-24</td>\n      <td>Wild</td>\n      <td>Glacier National Park, Montana</td>\n      <td>Their partially consumed bodies were found nea...</td>\n      <td>Brown bear</td>\n    </tr>\n    <tr>\n      <th>18</th>\n      <td>Kim Eberly</td>\n      <td>19</td>\n      <td>1980-07-24</td>\n      <td>Wild</td>\n      <td>Glacier National Park, Montana</td>\n      <td>Their partially consumed bodies were found nea...</td>\n      <td>Brown bear</td>\n    </tr>\n    <tr>\n      <th>19</th>\n      <td>John Richardson</td>\n      <td>31</td>\n      <td>1971-07-25</td>\n      <td>Wild</td>\n      <td>near Rocky Mountain National Park, Colorado</td>\n      <td>Richardson was attacked while camping on priva...</td>\n      <td>Black bear</td>\n    </tr>\n    <tr>\n      <th>20</th>\n      <td>Alison Muser</td>\n      <td>5</td>\n      <td>1977-07-01</td>\n      <td>Wild</td>\n      <td>Waterton Lakes National Park, Alberta</td>\n      <td>Muser was mauled to death by a black colored G...</td>\n      <td>Brown bear</td>\n    </tr>\n    <tr>\n      <th>21</th>\n      <td>Mary Pat Mahoney</td>\n      <td>22</td>\n      <td>1976-09-23</td>\n      <td>Wild</td>\n      <td>Glacier National Park, Montana</td>\n      <td>Mahoney was dragged from a tent and killed at ...</td>\n      <td>Brown bear</td>\n    </tr>\n    <tr>\n      <th>22</th>\n      <td>Alan Precup</td>\n      <td>25</td>\n      <td>1986-09-11</td>\n      <td>Wild</td>\n      <td>Glacier Bay National Park and Preserve, Alaska</td>\n      <td>Precup did not return after backpacking in Gla...</td>\n      <td>Brown bear</td>\n    </tr>\n    <tr>\n      <th>23</th>\n      <td>Barbara Chapman</td>\n      <td>24</td>\n      <td>1976-07-24</td>\n      <td>Wild</td>\n      <td>Glacier National Park of Canada, British Columbia</td>\n      <td>While hiking with a friend in British Columbia...</td>\n      <td>Brown bear</td>\n    </tr>\n    <tr>\n      <th>24</th>\n      <td>Wilf Etherington</td>\n      <td>51</td>\n      <td>1973-09-25</td>\n      <td>Wild</td>\n      <td>Banff National Park, Alberta</td>\n      <td>Etherington, a biologist with the Canadian Wil...</td>\n      <td>Brown bear</td>\n    </tr>\n    <tr>\n      <th>25</th>\n      <td>Harry Walker</td>\n      <td>25</td>\n      <td>1972-06-25</td>\n      <td>Wild</td>\n      <td>Yellowstone National Park, Wyoming</td>\n      <td>Walker was attacked by a bear that was feeding...</td>\n      <td>Brown bear</td>\n    </tr>\n    <tr>\n      <th>26</th>\n      <td>Julie Helgeson</td>\n      <td>19</td>\n      <td>1967-08-13</td>\n      <td>Wild</td>\n      <td>Glacier National Park, Montana</td>\n      <td>While camping near the Granite Park Chalet, He...</td>\n      <td>Brown bear</td>\n    </tr>\n    <tr>\n      <th>27</th>\n      <td>Michele Koons</td>\n      <td>19</td>\n      <td>1967-08-13</td>\n      <td>Wild</td>\n      <td>Glacier National Park, Montana</td>\n      <td>Koons was camping with a group at the Trout La...</td>\n      <td>Brown bear</td>\n    </tr>\n    <tr>\n      <th>28</th>\n      <td>Barbara Coates</td>\n      <td>7</td>\n      <td>1958-08-12</td>\n      <td>Wild</td>\n      <td>Jasper National Park, Alberta</td>\n      <td>While Coates was picking berries outside of he...</td>\n      <td>Black bear</td>\n    </tr>\n    <tr>\n      <th>29</th>\n      <td>Martha Hansen</td>\n      <td>45</td>\n      <td>1942-08-23</td>\n      <td>Wild</td>\n      <td>Yellowstone National Park, Wyoming</td>\n      <td>Hansen left her cabin to go to the restroom. A...</td>\n      <td>Brown bear</td>\n    </tr>\n    <tr>\n      <th>30</th>\n      <td>Percy Goodair</td>\n      <td>52</td>\n      <td>1929-09-12</td>\n      <td>Wild</td>\n      <td>Jasper National Park, Alberta</td>\n      <td>Goodair, a Parks Canada warden, was killed by ...</td>\n      <td>Brown bear</td>\n    </tr>\n    <tr>\n      <th>31</th>\n      <td>Frank Welch</td>\n      <td>61</td>\n      <td>1916-09-08</td>\n      <td>Wild</td>\n      <td>Yellowstone National Park, Wyoming</td>\n      <td>Welch was killed at a camp near Sylvan Pass wh...</td>\n      <td>Brown bear</td>\n    </tr>\n  </tbody>\n</table>\n</div>"
     },
     "metadata": {},
     "execution_count": 87
    }
   ],
   "source": [
    "in_parks_df"
   ]
  },
  {
   "cell_type": "code",
   "execution_count": 88,
   "metadata": {},
   "outputs": [],
   "source": [
    "##in pg admin create db 'national_parks_db'\n",
    "## create table \n",
    "# CREATE TABLE bear_attacks (\n",
    "#     id int PRIMARY KEY,\n",
    "#     name varchar(40) NOT NULL,\n",
    "#     age int,\n",
    "#     date date,\n",
    "#     type varchar(25),\n",
    "# \tlocation varchar(100),\n",
    "# \tdescription varchar,\n",
    "# \tbear_type varchar(25)\n",
    "# );"
   ]
  },
  {
   "cell_type": "code",
   "execution_count": 89,
   "metadata": {},
   "outputs": [],
   "source": [
    "#connect to postgres db\n",
    "connection = \"postgres:postgres@localhost:5432/national_parks_db\"\n",
    "engine = create_engine(f'postgresql://{connection}')\n",
    "Inspector = inspect(engine)"
   ]
  },
  {
   "cell_type": "code",
   "execution_count": 90,
   "metadata": {},
   "outputs": [
    {
     "output_type": "execute_result",
     "data": {
      "text/plain": [
       "['bear_attacks']"
      ]
     },
     "metadata": {},
     "execution_count": 90
    }
   ],
   "source": [
    "#return the table naes\n",
    "Inspector.get_table_names()"
   ]
  },
  {
   "cell_type": "code",
   "execution_count": 92,
   "metadata": {},
   "outputs": [],
   "source": [
    "#write data to sql\n",
    "in_parks_df.to_sql(name='bear_attacks', con=engine, if_exists='append', index=True)"
   ]
  },
  {
   "cell_type": "code",
   "execution_count": 96,
   "metadata": {},
   "outputs": [
    {
     "output_type": "execute_result",
     "data": {
      "text/plain": [
       "    id                    name  age        date  type  \\\n",
       "0    0            Lance Crosby   63  2015-08-07  Wild   \n",
       "1    1           Richard White   49  2012-08-24  Wild   \n",
       "2    2            John Wallace   59  2011-08-24  Wild   \n",
       "3    3         Brian Matayoshi   57  2011-07-06  Wild   \n",
       "4    4      Glenda Ann Bradley   50  2000-05-21  Wild   \n",
       "5    5       Timothy Treadwell   46  2003-10-05  Wild   \n",
       "6    6          Amie Huguenard   37  2003-10-05  Wild   \n",
       "7    7              Craig Dahl   26  1998-05-17  Wild   \n",
       "8    8             Robert Bell   33  1996-08-23  Wild   \n",
       "9    9      Christine Courtney   32  1996-07-05  Wild   \n",
       "10  10           John Petranyi   40  1992-10-03  Wild   \n",
       "11  11  Trevor Percy-Lancaster   40  1992-09-15  Wild   \n",
       "12  12             Gary Goeden   29  1987-07-28  Wild   \n",
       "13  13           Charles Gibbs   40  1987-04-25  Wild   \n",
       "14  14        William Tesinsky   38  1986-10-05  Wild   \n",
       "15  15    Brigitta Fredenhagen   25  1984-07-30  Wild   \n",
       "16  16         Laurence Gordon   33  1980-09-30  Wild   \n",
       "17  17           Jane Ammerman   19  1980-07-24  Wild   \n",
       "18  18              Kim Eberly   19  1980-07-24  Wild   \n",
       "19  19         John Richardson   31  1971-07-25  Wild   \n",
       "20  20            Alison Muser    5  1977-07-01  Wild   \n",
       "21  21        Mary Pat Mahoney   22  1976-09-23  Wild   \n",
       "22  22             Alan Precup   25  1986-09-11  Wild   \n",
       "23  23         Barbara Chapman   24  1976-07-24  Wild   \n",
       "24  24        Wilf Etherington   51  1973-09-25  Wild   \n",
       "25  25            Harry Walker   25  1972-06-25  Wild   \n",
       "26  26          Julie Helgeson   19  1967-08-13  Wild   \n",
       "27  27           Michele Koons   19  1967-08-13  Wild   \n",
       "28  28          Barbara Coates    7  1958-08-12  Wild   \n",
       "29  29           Martha Hansen   45  1942-08-23  Wild   \n",
       "30  30           Percy Goodair   52  1929-09-12  Wild   \n",
       "31  31             Frank Welch   61  1916-09-08  Wild   \n",
       "\n",
       "                                             location  \\\n",
       "0                  Yellowstone National Park, Wyoming   \n",
       "1                        Denali National Park, Alaska   \n",
       "2                  Yellowstone National Park, Wyoming   \n",
       "3                  Yellowstone National Park, Wyoming   \n",
       "4      Great Smoky Mountains National Park, Tennessee   \n",
       "5                        Katmai National Park, Alaska   \n",
       "6                        Katmai National Park, Alaska   \n",
       "7                      Glacier National Park, Montana   \n",
       "8           Gates of the Arctic National Park, Alaska   \n",
       "9                         Kluane National Park, Yukon   \n",
       "10                     Glacier National Park, Montana   \n",
       "11                      Jasper National Park, Alberta   \n",
       "12                     Glacier National Park, Montana   \n",
       "13                     Glacier National Park, Montana   \n",
       "14                 Yellowstone National Park, Wyoming   \n",
       "15                          Yellowstone National Park   \n",
       "16                     Glacier National Park, Montana   \n",
       "17                     Glacier National Park, Montana   \n",
       "18                     Glacier National Park, Montana   \n",
       "19        near Rocky Mountain National Park, Colorado   \n",
       "20              Waterton Lakes National Park, Alberta   \n",
       "21                     Glacier National Park, Montana   \n",
       "22     Glacier Bay National Park and Preserve, Alaska   \n",
       "23  Glacier National Park of Canada, British Columbia   \n",
       "24                       Banff National Park, Alberta   \n",
       "25                 Yellowstone National Park, Wyoming   \n",
       "26                     Glacier National Park, Montana   \n",
       "27                     Glacier National Park, Montana   \n",
       "28                      Jasper National Park, Alberta   \n",
       "29                 Yellowstone National Park, Wyoming   \n",
       "30                      Jasper National Park, Alberta   \n",
       "31                 Yellowstone National Park, Wyoming   \n",
       "\n",
       "                                          description   bear_type  \n",
       "0   Crosby, an employee at a medical clinic in the...  Brown bear  \n",
       "1   White was backpacking alone along the Toklat R...  Brown bear  \n",
       "2   Wallace's remains were found by hikers on the ...  Brown bear  \n",
       "3   Matayoshi and his wife were hiking the Wapiti ...  Brown bear  \n",
       "4   Bradley was attacked and partially consumed by...  Black bear  \n",
       "5   Treadwell and Huguenard's corpses were found b...  Brown bear  \n",
       "6   Treadwell and Huguenard's corpses were found b...  Brown bear  \n",
       "7   Dahl's partially consumed remains were found t...  Brown bear  \n",
       "8   Bell was killed while hiking with a friend nea...  Brown bear  \n",
       "9   Courtney was killed while hiking on the Slim's...  Brown bear  \n",
       "10  Petranyi was killed by a mother with two cubs ...  Brown bear  \n",
       "11  Percy-Lancaster and his wife were setting up c...  Brown bear  \n",
       "12  Goeden's partially consumed remains were found...  Brown bear  \n",
       "13  Gibbs was last seen alive following and photog...  Brown bear  \n",
       "14  Tesinkey, a photographer, was mauled after app...  Brown bear  \n",
       "15  Fredenhagen was dragged from her tent during t...  Brown bear  \n",
       "16  Gordon was killed at the Elizabeth Lake campsi...  Brown bear  \n",
       "17  Their partially consumed bodies were found nea...  Brown bear  \n",
       "18  Their partially consumed bodies were found nea...  Brown bear  \n",
       "19  Richardson was attacked while camping on priva...  Black bear  \n",
       "20  Muser was mauled to death by a black colored G...  Brown bear  \n",
       "21  Mahoney was dragged from a tent and killed at ...  Brown bear  \n",
       "22  Precup did not return after backpacking in Gla...  Brown bear  \n",
       "23  While hiking with a friend in British Columbia...  Brown bear  \n",
       "24  Etherington, a biologist with the Canadian Wil...  Brown bear  \n",
       "25  Walker was attacked by a bear that was feeding...  Brown bear  \n",
       "26  While camping near the Granite Park Chalet, He...  Brown bear  \n",
       "27  Koons was camping with a group at the Trout La...  Brown bear  \n",
       "28  While Coates was picking berries outside of he...  Black bear  \n",
       "29  Hansen left her cabin to go to the restroom. A...  Brown bear  \n",
       "30  Goodair, a Parks Canada warden, was killed by ...  Brown bear  \n",
       "31  Welch was killed at a camp near Sylvan Pass wh...  Brown bear  "
      ],
      "text/html": "<div>\n<style scoped>\n    .dataframe tbody tr th:only-of-type {\n        vertical-align: middle;\n    }\n\n    .dataframe tbody tr th {\n        vertical-align: top;\n    }\n\n    .dataframe thead th {\n        text-align: right;\n    }\n</style>\n<table border=\"1\" class=\"dataframe\">\n  <thead>\n    <tr style=\"text-align: right;\">\n      <th></th>\n      <th>id</th>\n      <th>name</th>\n      <th>age</th>\n      <th>date</th>\n      <th>type</th>\n      <th>location</th>\n      <th>description</th>\n      <th>bear_type</th>\n    </tr>\n  </thead>\n  <tbody>\n    <tr>\n      <th>0</th>\n      <td>0</td>\n      <td>Lance Crosby</td>\n      <td>63</td>\n      <td>2015-08-07</td>\n      <td>Wild</td>\n      <td>Yellowstone National Park, Wyoming</td>\n      <td>Crosby, an employee at a medical clinic in the...</td>\n      <td>Brown bear</td>\n    </tr>\n    <tr>\n      <th>1</th>\n      <td>1</td>\n      <td>Richard White</td>\n      <td>49</td>\n      <td>2012-08-24</td>\n      <td>Wild</td>\n      <td>Denali National Park, Alaska</td>\n      <td>White was backpacking alone along the Toklat R...</td>\n      <td>Brown bear</td>\n    </tr>\n    <tr>\n      <th>2</th>\n      <td>2</td>\n      <td>John Wallace</td>\n      <td>59</td>\n      <td>2011-08-24</td>\n      <td>Wild</td>\n      <td>Yellowstone National Park, Wyoming</td>\n      <td>Wallace's remains were found by hikers on the ...</td>\n      <td>Brown bear</td>\n    </tr>\n    <tr>\n      <th>3</th>\n      <td>3</td>\n      <td>Brian Matayoshi</td>\n      <td>57</td>\n      <td>2011-07-06</td>\n      <td>Wild</td>\n      <td>Yellowstone National Park, Wyoming</td>\n      <td>Matayoshi and his wife were hiking the Wapiti ...</td>\n      <td>Brown bear</td>\n    </tr>\n    <tr>\n      <th>4</th>\n      <td>4</td>\n      <td>Glenda Ann Bradley</td>\n      <td>50</td>\n      <td>2000-05-21</td>\n      <td>Wild</td>\n      <td>Great Smoky Mountains National Park, Tennessee</td>\n      <td>Bradley was attacked and partially consumed by...</td>\n      <td>Black bear</td>\n    </tr>\n    <tr>\n      <th>5</th>\n      <td>5</td>\n      <td>Timothy Treadwell</td>\n      <td>46</td>\n      <td>2003-10-05</td>\n      <td>Wild</td>\n      <td>Katmai National Park, Alaska</td>\n      <td>Treadwell and Huguenard's corpses were found b...</td>\n      <td>Brown bear</td>\n    </tr>\n    <tr>\n      <th>6</th>\n      <td>6</td>\n      <td>Amie Huguenard</td>\n      <td>37</td>\n      <td>2003-10-05</td>\n      <td>Wild</td>\n      <td>Katmai National Park, Alaska</td>\n      <td>Treadwell and Huguenard's corpses were found b...</td>\n      <td>Brown bear</td>\n    </tr>\n    <tr>\n      <th>7</th>\n      <td>7</td>\n      <td>Craig Dahl</td>\n      <td>26</td>\n      <td>1998-05-17</td>\n      <td>Wild</td>\n      <td>Glacier National Park, Montana</td>\n      <td>Dahl's partially consumed remains were found t...</td>\n      <td>Brown bear</td>\n    </tr>\n    <tr>\n      <th>8</th>\n      <td>8</td>\n      <td>Robert Bell</td>\n      <td>33</td>\n      <td>1996-08-23</td>\n      <td>Wild</td>\n      <td>Gates of the Arctic National Park, Alaska</td>\n      <td>Bell was killed while hiking with a friend nea...</td>\n      <td>Brown bear</td>\n    </tr>\n    <tr>\n      <th>9</th>\n      <td>9</td>\n      <td>Christine Courtney</td>\n      <td>32</td>\n      <td>1996-07-05</td>\n      <td>Wild</td>\n      <td>Kluane National Park, Yukon</td>\n      <td>Courtney was killed while hiking on the Slim's...</td>\n      <td>Brown bear</td>\n    </tr>\n    <tr>\n      <th>10</th>\n      <td>10</td>\n      <td>John Petranyi</td>\n      <td>40</td>\n      <td>1992-10-03</td>\n      <td>Wild</td>\n      <td>Glacier National Park, Montana</td>\n      <td>Petranyi was killed by a mother with two cubs ...</td>\n      <td>Brown bear</td>\n    </tr>\n    <tr>\n      <th>11</th>\n      <td>11</td>\n      <td>Trevor Percy-Lancaster</td>\n      <td>40</td>\n      <td>1992-09-15</td>\n      <td>Wild</td>\n      <td>Jasper National Park, Alberta</td>\n      <td>Percy-Lancaster and his wife were setting up c...</td>\n      <td>Brown bear</td>\n    </tr>\n    <tr>\n      <th>12</th>\n      <td>12</td>\n      <td>Gary Goeden</td>\n      <td>29</td>\n      <td>1987-07-28</td>\n      <td>Wild</td>\n      <td>Glacier National Park, Montana</td>\n      <td>Goeden's partially consumed remains were found...</td>\n      <td>Brown bear</td>\n    </tr>\n    <tr>\n      <th>13</th>\n      <td>13</td>\n      <td>Charles Gibbs</td>\n      <td>40</td>\n      <td>1987-04-25</td>\n      <td>Wild</td>\n      <td>Glacier National Park, Montana</td>\n      <td>Gibbs was last seen alive following and photog...</td>\n      <td>Brown bear</td>\n    </tr>\n    <tr>\n      <th>14</th>\n      <td>14</td>\n      <td>William Tesinsky</td>\n      <td>38</td>\n      <td>1986-10-05</td>\n      <td>Wild</td>\n      <td>Yellowstone National Park, Wyoming</td>\n      <td>Tesinkey, a photographer, was mauled after app...</td>\n      <td>Brown bear</td>\n    </tr>\n    <tr>\n      <th>15</th>\n      <td>15</td>\n      <td>Brigitta Fredenhagen</td>\n      <td>25</td>\n      <td>1984-07-30</td>\n      <td>Wild</td>\n      <td>Yellowstone National Park</td>\n      <td>Fredenhagen was dragged from her tent during t...</td>\n      <td>Brown bear</td>\n    </tr>\n    <tr>\n      <th>16</th>\n      <td>16</td>\n      <td>Laurence Gordon</td>\n      <td>33</td>\n      <td>1980-09-30</td>\n      <td>Wild</td>\n      <td>Glacier National Park, Montana</td>\n      <td>Gordon was killed at the Elizabeth Lake campsi...</td>\n      <td>Brown bear</td>\n    </tr>\n    <tr>\n      <th>17</th>\n      <td>17</td>\n      <td>Jane Ammerman</td>\n      <td>19</td>\n      <td>1980-07-24</td>\n      <td>Wild</td>\n      <td>Glacier National Park, Montana</td>\n      <td>Their partially consumed bodies were found nea...</td>\n      <td>Brown bear</td>\n    </tr>\n    <tr>\n      <th>18</th>\n      <td>18</td>\n      <td>Kim Eberly</td>\n      <td>19</td>\n      <td>1980-07-24</td>\n      <td>Wild</td>\n      <td>Glacier National Park, Montana</td>\n      <td>Their partially consumed bodies were found nea...</td>\n      <td>Brown bear</td>\n    </tr>\n    <tr>\n      <th>19</th>\n      <td>19</td>\n      <td>John Richardson</td>\n      <td>31</td>\n      <td>1971-07-25</td>\n      <td>Wild</td>\n      <td>near Rocky Mountain National Park, Colorado</td>\n      <td>Richardson was attacked while camping on priva...</td>\n      <td>Black bear</td>\n    </tr>\n    <tr>\n      <th>20</th>\n      <td>20</td>\n      <td>Alison Muser</td>\n      <td>5</td>\n      <td>1977-07-01</td>\n      <td>Wild</td>\n      <td>Waterton Lakes National Park, Alberta</td>\n      <td>Muser was mauled to death by a black colored G...</td>\n      <td>Brown bear</td>\n    </tr>\n    <tr>\n      <th>21</th>\n      <td>21</td>\n      <td>Mary Pat Mahoney</td>\n      <td>22</td>\n      <td>1976-09-23</td>\n      <td>Wild</td>\n      <td>Glacier National Park, Montana</td>\n      <td>Mahoney was dragged from a tent and killed at ...</td>\n      <td>Brown bear</td>\n    </tr>\n    <tr>\n      <th>22</th>\n      <td>22</td>\n      <td>Alan Precup</td>\n      <td>25</td>\n      <td>1986-09-11</td>\n      <td>Wild</td>\n      <td>Glacier Bay National Park and Preserve, Alaska</td>\n      <td>Precup did not return after backpacking in Gla...</td>\n      <td>Brown bear</td>\n    </tr>\n    <tr>\n      <th>23</th>\n      <td>23</td>\n      <td>Barbara Chapman</td>\n      <td>24</td>\n      <td>1976-07-24</td>\n      <td>Wild</td>\n      <td>Glacier National Park of Canada, British Columbia</td>\n      <td>While hiking with a friend in British Columbia...</td>\n      <td>Brown bear</td>\n    </tr>\n    <tr>\n      <th>24</th>\n      <td>24</td>\n      <td>Wilf Etherington</td>\n      <td>51</td>\n      <td>1973-09-25</td>\n      <td>Wild</td>\n      <td>Banff National Park, Alberta</td>\n      <td>Etherington, a biologist with the Canadian Wil...</td>\n      <td>Brown bear</td>\n    </tr>\n    <tr>\n      <th>25</th>\n      <td>25</td>\n      <td>Harry Walker</td>\n      <td>25</td>\n      <td>1972-06-25</td>\n      <td>Wild</td>\n      <td>Yellowstone National Park, Wyoming</td>\n      <td>Walker was attacked by a bear that was feeding...</td>\n      <td>Brown bear</td>\n    </tr>\n    <tr>\n      <th>26</th>\n      <td>26</td>\n      <td>Julie Helgeson</td>\n      <td>19</td>\n      <td>1967-08-13</td>\n      <td>Wild</td>\n      <td>Glacier National Park, Montana</td>\n      <td>While camping near the Granite Park Chalet, He...</td>\n      <td>Brown bear</td>\n    </tr>\n    <tr>\n      <th>27</th>\n      <td>27</td>\n      <td>Michele Koons</td>\n      <td>19</td>\n      <td>1967-08-13</td>\n      <td>Wild</td>\n      <td>Glacier National Park, Montana</td>\n      <td>Koons was camping with a group at the Trout La...</td>\n      <td>Brown bear</td>\n    </tr>\n    <tr>\n      <th>28</th>\n      <td>28</td>\n      <td>Barbara Coates</td>\n      <td>7</td>\n      <td>1958-08-12</td>\n      <td>Wild</td>\n      <td>Jasper National Park, Alberta</td>\n      <td>While Coates was picking berries outside of he...</td>\n      <td>Black bear</td>\n    </tr>\n    <tr>\n      <th>29</th>\n      <td>29</td>\n      <td>Martha Hansen</td>\n      <td>45</td>\n      <td>1942-08-23</td>\n      <td>Wild</td>\n      <td>Yellowstone National Park, Wyoming</td>\n      <td>Hansen left her cabin to go to the restroom. A...</td>\n      <td>Brown bear</td>\n    </tr>\n    <tr>\n      <th>30</th>\n      <td>30</td>\n      <td>Percy Goodair</td>\n      <td>52</td>\n      <td>1929-09-12</td>\n      <td>Wild</td>\n      <td>Jasper National Park, Alberta</td>\n      <td>Goodair, a Parks Canada warden, was killed by ...</td>\n      <td>Brown bear</td>\n    </tr>\n    <tr>\n      <th>31</th>\n      <td>31</td>\n      <td>Frank Welch</td>\n      <td>61</td>\n      <td>1916-09-08</td>\n      <td>Wild</td>\n      <td>Yellowstone National Park, Wyoming</td>\n      <td>Welch was killed at a camp near Sylvan Pass wh...</td>\n      <td>Brown bear</td>\n    </tr>\n  </tbody>\n</table>\n</div>"
     },
     "metadata": {},
     "execution_count": 96
    }
   ],
   "source": [
    "##verify that data has been written to db\n",
    "conn = engine.connect()\n",
    "pd.read_sql(\"select * from public.bear_attacks\", conn)"
   ]
  },
  {
   "cell_type": "code",
   "execution_count": null,
   "metadata": {},
   "outputs": [],
   "source": []
  }
 ]
}