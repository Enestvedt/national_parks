{
 "cells": [
  {
   "cell_type": "code",
   "execution_count": null,
   "metadata": {},
   "outputs": [],
   "source": [
    "# Import libraries\n",
    "import pandas as pd\n",
    "from sqlalchemy import create_engine\n",
    "from sqlalchemy import inspect\n",
    "from sqlalchemy.orm import Session\n",
    "from ast import literal_eval"
   ]
  },
  {
   "cell_type": "code",
   "execution_count": null,
   "metadata": {},
   "outputs": [],
   "source": [
    "# Read in the CSVs using Pandas\n",
    "#National Parks\n",
    "national_parks_df = pd.read_csv(\"../Resources/national_parks.csv\")\n",
    "\n",
    "#Trails\n",
    "csv_file = \"../Resources/National Park Trail Data.csv\"\n",
    "trail_df = pd.read_csv(csv_file)\n",
    "\n",
    "#Species\n",
    "species = \"../Resources/National_Parks_Species.csv\"\n",
    "species_df = pd.read_csv(species, keep_default_na=False)\n",
    "\n",
    "#Visitation\n",
    "visitors_file = \"../Resources/All National Parks Visitation 1904-2016.csv\"\n",
    "visitors_df = pd.read_csv(visitors_file)\n",
    "\n",
    "#Bear Attacks\n",
    "bear_attacks_df = pd.read_csv(\"../Resources/north_america_bear_killings.csv\")"
   ]
  },
  {
   "cell_type": "markdown",
   "metadata": {},
   "source": [
    "# National Parks Transformation"
   ]
  },
  {
   "cell_type": "code",
   "execution_count": null,
   "metadata": {},
   "outputs": [],
   "source": [
    "# Read in the national_parks.csv into a dataframe\n",
    "national_parks_df.head()"
   ]
  },
  {
   "cell_type": "code",
   "execution_count": null,
   "metadata": {},
   "outputs": [],
   "source": [
    "# Look at the column names\n",
    "national_parks_df.columns"
   ]
  },
  {
   "cell_type": "code",
   "execution_count": null,
   "metadata": {},
   "outputs": [],
   "source": [
    "# Look at the column data types\n",
    "national_parks_df.dtypes"
   ]
  },
  {
   "cell_type": "code",
   "execution_count": null,
   "metadata": {},
   "outputs": [],
   "source": [
    "# Need to rename the columns to match the table columns in nation_parks_db\n",
    "national_parks_df = national_parks_df.rename(columns={\"Park Code\":\"park_code\",\"Park Name\":\"park_name\",\n",
    "                                                      \"State\":\"state\",\"Acres\":\"acres\",\"Latitude\":\"latitude\",\n",
    "                                                      \"Longitude\":\"longitude\"})\n",
    "national_parks_df.columns"
   ]
  },
  {
   "cell_type": "code",
   "execution_count": null,
   "metadata": {},
   "outputs": [],
   "source": [
    "# Verify no duplicates\n",
    "national_parks_df.drop_duplicates().shape"
   ]
  },
  {
   "cell_type": "code",
   "execution_count": null,
   "metadata": {},
   "outputs": [],
   "source": [
    "national_parks_df.index.name = \"id\"\n",
    "national_parks_df.head()"
   ]
  },
  {
   "cell_type": "markdown",
   "metadata": {},
   "source": [
    "# Trails CSV Transformation"
   ]
  },
  {
   "cell_type": "code",
   "execution_count": null,
   "metadata": {},
   "outputs": [],
   "source": [
    "trail_df['_geoloc'] = trail_df['_geoloc'].astype('str').apply(literal_eval)\n",
    "display(trail_df[trail_df['area_name'] == 'Clayton Co International Park, Jonesboro GA'])\n",
    "display(trail_df[trail_df['area_name'] == 'Fort Hunt National Park'])\n",
    "display(trail_df[trail_df['area_name'] == 'Wolf Trap National Park for the Performing Arts'])\n",
    "trail_df.drop([1219,2475,2618,2629,2524],inplace=True)\n",
    "trail_df.reset_index(inplace=True,drop=True)\n",
    "\n",
    "replace_dict = {'Great Sand Dunes National Park and Preserve':'Great Sand Dunes National Park',\n",
    " 'Congaree National Park Wilderness':'Congaree National Park',\n",
    " 'Hawaii Volcanoes National Park':\"Hawai'i Volcanoes National Park\",\n",
    " 'Haleakala National Park':\"Haleakalā National Park\"}\n",
    "\n",
    "trail_df.replace(replace_dict,inplace=True)"
   ]
  },
  {
   "cell_type": "code",
   "execution_count": null,
   "metadata": {},
   "outputs": [],
   "source": [
    "trail_df.head()"
   ]
  },
  {
   "cell_type": "code",
   "execution_count": null,
   "metadata": {},
   "outputs": [],
   "source": [
    "features_df=trail_df[['trail_id','area_name','features']]"
   ]
  },
  {
   "cell_type": "code",
   "execution_count": null,
   "metadata": {},
   "outputs": [],
   "source": [
    "features_df['features'] = features_df['features'].astype('str').apply(literal_eval)\n",
    "features_df = features_df.explode('features')"
   ]
  },
  {
   "cell_type": "code",
   "execution_count": null,
   "metadata": {},
   "outputs": [],
   "source": [
    "features_df.dropna(inplace=True)\n",
    "features_df.reset_index(inplace=True, drop=True)\n",
    "features_df.rename(columns={'area_name':'park_name'},inplace=True)"
   ]
  },
  {
   "cell_type": "code",
   "execution_count": null,
   "metadata": {},
   "outputs": [],
   "source": [
    "features_df.head()"
   ]
  },
  {
   "cell_type": "code",
   "execution_count": null,
   "metadata": {},
   "outputs": [],
   "source": [
    "activities_df=trail_df[['trail_id','area_name','activities']]"
   ]
  },
  {
   "cell_type": "code",
   "execution_count": null,
   "metadata": {},
   "outputs": [],
   "source": [
    "activities_df['activities'] = activities_df['activities'].astype('str').apply(literal_eval)\n",
    "activities_df = activities_df.explode('activities')\n",
    "activities_df.dropna(inplace=True)\n",
    "activities_df.reset_index(inplace=True, drop=True)\n",
    "activities_df.rename(columns={'area_name':'park_name'},inplace=True)\n",
    "activities_df.head()"
   ]
  },
  {
   "cell_type": "code",
   "execution_count": null,
   "metadata": {},
   "outputs": [],
   "source": [
    "trail_df_clean = trail_df.drop(columns=['features','activities'])"
   ]
  },
  {
   "cell_type": "code",
   "execution_count": null,
   "metadata": {},
   "outputs": [],
   "source": [
    "trail_df_clean.head()"
   ]
  },
  {
   "cell_type": "code",
   "execution_count": null,
   "metadata": {},
   "outputs": [],
   "source": [
    "trail_df_clean['latitude'] = ''\n",
    "trail_df_clean['longitude'] = ''\n",
    "for i,row in trail_df_clean.iterrows():\n",
    "    trail_df_clean.iloc[i,16] = trail_df_clean.iloc[i,6]['lat']\n",
    "    trail_df_clean.iloc[i,17] = trail_df_clean.iloc[i,6]['lng']\n",
    "    "
   ]
  },
  {
   "cell_type": "code",
   "execution_count": null,
   "metadata": {},
   "outputs": [],
   "source": [
    "trail_df_clean.drop(columns='_geoloc',inplace=True)"
   ]
  },
  {
   "cell_type": "code",
   "execution_count": null,
   "metadata": {},
   "outputs": [],
   "source": [
    "trail_df_clean.dropna(inplace=True,)"
   ]
  },
  {
   "cell_type": "code",
   "execution_count": null,
   "metadata": {},
   "outputs": [],
   "source": [
    "trail_df_clean.reset_index(inplace=True, drop=True)"
   ]
  },
  {
   "cell_type": "code",
   "execution_count": null,
   "metadata": {},
   "outputs": [],
   "source": [
    "trail_df_clean.rename(columns={'name':'trail_name','city_name':'city','area_name':'park_name','state_name':'state','country_name':'country'},inplace=True)"
   ]
  },
  {
   "cell_type": "code",
   "execution_count": null,
   "metadata": {
    "scrolled": true
   },
   "outputs": [],
   "source": [
    "trail_df_clean.head()"
   ]
  },
  {
   "cell_type": "code",
   "execution_count": null,
   "metadata": {},
   "outputs": [],
   "source": [
    "activities_df['id'] = activities_df.index + 1\n",
    "features_df['id'] = features_df.index +1"
   ]
  },
  {
   "cell_type": "markdown",
   "metadata": {},
   "source": [
    "# Species CSV Transformation"
   ]
  },
  {
   "cell_type": "code",
   "execution_count": null,
   "metadata": {},
   "outputs": [],
   "source": [
    "# Printing csv file\n",
    "species_df.head()"
   ]
  },
  {
   "cell_type": "code",
   "execution_count": null,
   "metadata": {},
   "outputs": [],
   "source": [
    "# Dropping unwanted columns\n",
    "# Printing the new DataFrame\n",
    "species_df = species_df.drop(columns=['Order', 'Family', 'Record Status', 'Nativeness', 'Seasonality', 'Conservation Status', 'Unnamed: 13'])\n",
    "species_df.head()"
   ]
  },
  {
   "cell_type": "code",
   "execution_count": null,
   "metadata": {},
   "outputs": [],
   "source": [
    "# Keeping species that are only \"Present\" - Keeping rows where value in \"Occurrence\" column is equal to \"Present\"\n",
    "# Printing new DataFrame\n",
    "species_df = species_df.loc[species_df['Occurrence'] == 'Present']\n",
    "species_df.head()"
   ]
  },
  {
   "cell_type": "code",
   "execution_count": null,
   "metadata": {},
   "outputs": [],
   "source": [
    "# Renaming columns\n",
    "species_df = species_df.rename(columns={'Species ID': 'species_id', 'Park Name': 'park_name', 'Category': 'category', 'Scientific Name': 'scientific_name', 'Occurrence': 'occurrence', 'Common Names':'common_names', 'Occurence':'occurence', 'Abundance':'abundance'})\n",
    "species_df.head()"
   ]
  },
  {
   "cell_type": "code",
   "execution_count": null,
   "metadata": {},
   "outputs": [],
   "source": [
    "# Checking for duplicates\n",
    "# No duplicates\n",
    "species_df.duplicated()"
   ]
  },
  {
   "cell_type": "code",
   "execution_count": null,
   "metadata": {},
   "outputs": [],
   "source": [
    "# Resetting index\n",
    "# Printing new DataFrame\n",
    "species_df = species_df.reset_index(drop=True)\n",
    "species_df.head()"
   ]
  },
  {
   "cell_type": "code",
   "execution_count": null,
   "metadata": {},
   "outputs": [],
   "source": [
    "# Renaming the index to \"id\"\n",
    "# Printing the new DataFrame\n",
    "species_df.index.name = 'id'\n",
    "species_df.head()"
   ]
  },
  {
   "cell_type": "markdown",
   "metadata": {},
   "source": [
    "# Parks Visitation CSV Transformation"
   ]
  },
  {
   "cell_type": "code",
   "execution_count": null,
   "metadata": {},
   "outputs": [],
   "source": [
    "# Load DF\n",
    "visitors_df.head()"
   ]
  },
  {
   "cell_type": "code",
   "execution_count": null,
   "metadata": {},
   "outputs": [],
   "source": [
    "# Grab only National Parks from the DataFrame\n",
    "visitors_df = visitors_df.loc[visitors_df[\"Unit Type\"] == \"National Park\"]\n",
    "\n",
    "# filter out rows that do not contain a numeric year\n",
    "visitors_df = visitors_df.loc[visitors_df[\"YearRaw\"] != \"Total\"]\n",
    "\n",
    "# Create filtered dataframe with specific columns\n",
    "visitors_cols = [\"Region\", \"State\", \"Unit Name\", \"Visitors\", \"YearRaw\"]\n",
    "visitors_transformed= visitors_df[visitors_cols].copy()\n",
    "\n",
    "\n",
    "\n",
    "# Rename the column headers for clarification\n",
    "visitors_transformed = visitors_transformed.rename(columns={\"Region\":\"region\",\n",
    "                                                            \"State\":\"state\",\n",
    "                                                            \"Unit Name\": \"park_name\",\n",
    "                                                            \"Visitors\":\"visitors\",\n",
    "                                                            \"YearRaw\": \"year\"})\n",
    "# Reset the index\n",
    "visitors_transformed.reset_index(drop=True, inplace=True)\n",
    "\n",
    "# Create the ID column based off of the index\n",
    "visitors_transformed['id'] = visitors_transformed.index + 1\n",
    "\n",
    "# Set the index to the ID\n",
    "visitors_transformed.set_index('id',drop=True, inplace=True)\n",
    "\n",
    "visitors_transformed.head()"
   ]
  },
  {
   "cell_type": "markdown",
   "metadata": {},
   "source": [
    "# Bear Attacks CSV Transformation"
   ]
  },
  {
   "cell_type": "code",
   "execution_count": null,
   "metadata": {},
   "outputs": [],
   "source": [
    "#inspect the columns\n",
    "bear_attacks_df.columns"
   ]
  },
  {
   "cell_type": "code",
   "execution_count": null,
   "metadata": {},
   "outputs": [],
   "source": [
    "#age column has a leading space - remove that and make all others lower case\n",
    "bear_attacks_df = bear_attacks_df.rename(columns={'Name': 'name', ' age': 'age', 'Date': 'date', 'Type': 'type', 'Location': 'location', 'Description': 'description', 'Type of bear': 'bear_type'})\n"
   ]
  },
  {
   "cell_type": "code",
   "execution_count": null,
   "metadata": {},
   "outputs": [],
   "source": [
    "#we only care about attacks in National Parks - filter for those - these will include Canada's National Parks as well as USA National Parks\n",
    "in_parks = bear_attacks_df['location'].str.contains('National Park', case=True, regex=False)\n",
    "\n",
    "#select the relevant columns\n",
    "in_parks_df = bear_attacks_df[in_parks]\n",
    "in_parks_df = in_parks_df[['name', 'age', 'date', 'type', 'location', 'description', 'bear_type']]\n"
   ]
  },
  {
   "cell_type": "code",
   "execution_count": null,
   "metadata": {},
   "outputs": [],
   "source": [
    "#check for any duplicate records\n",
    "in_parks_df.shape"
   ]
  },
  {
   "cell_type": "code",
   "execution_count": null,
   "metadata": {},
   "outputs": [],
   "source": [
    "#there are no duplicate records\n",
    "in_parks_df.drop_duplicates().shape\n"
   ]
  },
  {
   "cell_type": "code",
   "execution_count": null,
   "metadata": {},
   "outputs": [],
   "source": [
    "#reset the index - this will be the sql primary key\n",
    "in_parks_df = in_parks_df.reset_index(drop=True)\n",
    "#give index column name 'id'\n",
    "in_parks_df.index.name = 'id'"
   ]
  },
  {
   "cell_type": "code",
   "execution_count": null,
   "metadata": {},
   "outputs": [],
   "source": [
    "in_parks_df"
   ]
  },
  {
   "cell_type": "code",
   "execution_count": null,
   "metadata": {},
   "outputs": [],
   "source": [
    "in_parks_df['location'] = in_parks_df['location'].str.split(',').str[0]\n",
    "in_parks_df"
   ]
  },
  {
   "cell_type": "markdown",
   "metadata": {},
   "source": [
    "# Data Loads to Postgres"
   ]
  },
  {
   "cell_type": "code",
   "execution_count": null,
   "metadata": {},
   "outputs": [],
   "source": [
    "# Open database connection\n",
    "db_conn = \"postgres:postgres@localhost:5432/national_parks_db\"\n",
    "engine = create_engine(f\"postgresql://{db_conn}\")\n",
    "\n",
    "# Check the table names for accuracy\n",
    "inspector = inspect(engine)\n",
    "inspector.get_table_names()"
   ]
  },
  {
   "cell_type": "code",
   "execution_count": null,
   "metadata": {},
   "outputs": [],
   "source": [
    "# Load the National Parks dataframe into the postgres table\n",
    "national_parks_df.to_sql(name=\"national_parks\", con=engine, if_exists='append', index=True)\n",
    "\n",
    "# Verify the data was loaded in the table\n",
    "pd.read_sql_query(\"select * from national_parks\", con=engine).head()\n"
   ]
  },
  {
   "cell_type": "code",
   "execution_count": null,
   "metadata": {},
   "outputs": [],
   "source": [
    "# Load the Trails database tables\n",
    "trail_df_clean.to_sql(name='park_trails', con=engine, if_exists='append', index=True)\n",
    "activities_df.to_sql(name='trail_activities', con=engine, if_exists='append', index=True)\n",
    "features_df.to_sql(name='trail_features', con=engine, if_exists='append', index=True)\n",
    "\n",
    "# Verify the data was loaded in the table\n",
    "pd.read_sql_query(\"select * from park_trails\", con=engine).head()"
   ]
  },
  {
   "cell_type": "code",
   "execution_count": null,
   "metadata": {},
   "outputs": [],
   "source": [
    "# Loading Species DataFrame into database\n",
    "species_df.to_sql(name='species', con=engine, if_exists='append', index=True)\n",
    "\n",
    "# Verify the data was loaded in the table\n",
    "pd.read_sql_query(\"select * from species\", con=engine).head()"
   ]
  },
  {
   "cell_type": "code",
   "execution_count": null,
   "metadata": {},
   "outputs": [],
   "source": [
    "# Load Visitors dataframe into the database\n",
    "visitors_transformed.to_sql(name='parks_visitation', con=engine, if_exists='append', index=True)\n",
    "\n",
    "# Verify the data was loaded in the table\n",
    "pd.read_sql_query(\"select * from parks_visitation\", con=engine).head()"
   ]
  },
  {
   "cell_type": "code",
   "execution_count": null,
   "metadata": {},
   "outputs": [],
   "source": [
    "#write Bear Attack data to sql\n",
    "in_parks_df.to_sql(name='bear_attacks', con=engine, if_exists='append', index=True)\n",
    "\n",
    "# Verify the data was loaded in the table\n",
    "pd.read_sql_query(\"select * from bear_attacks\", con=engine).head()"
   ]
  }
 ],
 "metadata": {
  "kernelspec": {
   "display_name": "Python 3",
   "language": "python",
   "name": "python3"
  },
  "language_info": {
   "codemirror_mode": {
    "name": "ipython",
    "version": 3
   },
   "file_extension": ".py",
   "mimetype": "text/x-python",
   "name": "python",
   "nbconvert_exporter": "python",
   "pygments_lexer": "ipython3",
   "version": "3.8.5"
  }
 },
 "nbformat": 4,
 "nbformat_minor": 4
}
